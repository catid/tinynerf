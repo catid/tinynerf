{
 "cells": [
  {
   "cell_type": "code",
   "execution_count": 1,
   "id": "9f8ce037",
   "metadata": {},
   "outputs": [
    {
     "name": "stderr",
     "output_type": "stream",
     "text": [
      "/home/loic/Documents/prog/tinynerf/env/lib/python3.10/site-packages/tqdm/auto.py:21: TqdmWarning: IProgress not found. Please update jupyter and ipywidgets. See https://ipywidgets.readthedocs.io/en/stable/user_install.html\n",
      "  from .autonotebook import tqdm as notebook_tqdm\n"
     ]
    }
   ],
   "source": [
    "import torch\n",
    "import matplotlib.pyplot as plt\n",
    "from src.data import parse_nerf_synthetic, ImagesDataset, NerfData\n",
    "from pathlib import Path"
   ]
  },
  {
   "cell_type": "code",
   "execution_count": 10,
   "id": "9047bf70",
   "metadata": {},
   "outputs": [],
   "source": [
    "def mip360_contract(coords: torch.Tensor) -> torch.Tensor:\n",
    "    \"\"\"Scene contraction from Mip-NeRF 360 https://arxiv.org/abs/2111.12077\"\"\"\n",
    "    norm = torch.norm(coords, dim=-1, keepdim=True) # type: ignore\n",
    "    return torch.where(norm <= 1., coords, (2. - 1./norm) * coords / norm) / 2.\n",
    "\n",
    "def clipped_exponential_stepping(near: float, far: float, delta_min: float, delta_max: float, device: torch.device):\n",
    "    \"\"\"Clipped exponential stepping function as described in Instant-NGP paper\"\"\"\n",
    "    t = near\n",
    "    acc_ts, acc_steps = [t], []\n",
    "    while t < far:\n",
    "        step = min(delta_max, max(delta_min, t))\n",
    "        t += step\n",
    "        acc_ts.append(t)\n",
    "        acc_steps.append(step)\n",
    "    ts = torch.tensor(acc_ts[:-1], device=device)\n",
    "    steps = torch.tensor(acc_steps, device=device)\n",
    "    return ts, steps\n",
    "\n",
    "def uniform_stepping(near: float, far: float, n_samples: float, device: torch.device):\n",
    "    \"\"\"uniform steps\"\"\"\n",
    "    ts = torch.linspace(near, far, n_samples+1, device=device)\n",
    "    steps = ts[1:] - ts[:-1]\n",
    "    return ts[:-1], steps"
   ]
  },
  {
   "cell_type": "code",
   "execution_count": 11,
   "id": "0e2c8ec2",
   "metadata": {},
   "outputs": [],
   "source": [
    "data = parse_nerf_synthetic(Path(\"data/lego\"), \"test\")\n",
    "img_dataset = ImagesDataset(data)"
   ]
  },
  {
   "cell_type": "code",
   "execution_count": 26,
   "id": "4682b0ca",
   "metadata": {},
   "outputs": [],
   "source": [
    "factor = 80\n",
    "rays_o = img_dataset[10]['rays_o'][::factor,::factor].reshape(-1,3)\n",
    "rays_d = img_dataset[10]['rays_d'][::factor,::factor].reshape(-1,3)\n",
    "# ts, _ = clipped_exponential_stepping(0., 25, 1, 1e10, torch.device('cpu'))\n",
    "ts, _ = uniform_stepping(0., 25, 100, torch.device('cpu'))\n",
    "samples = rays_o[:,None,:] + rays_d[:,None,:] * ts[None,:,None]\n",
    "samples = samples.view(-1,3)\n",
    "positions = torch.tensor([M[:3, 3].tolist() for M in data.cameras])\n",
    "# samples = mip360_contract(samples)\n",
    "# positions = mip360_contract(positions)"
   ]
  },
  {
   "cell_type": "code",
   "execution_count": 27,
   "id": "a2ebf68a",
   "metadata": {},
   "outputs": [],
   "source": [
    "%matplotlib tk\n",
    "fig = plt.figure()\n",
    "ax = fig.add_subplot(projection='3d')\n",
    "\n",
    "ax.scatter(positions[:,0], positions[:,1], positions[:,2], c='b')\n",
    "ax.scatter(samples[:,0], samples[:,1], samples[:,2], c='r')\n",
    "plt.show()"
   ]
  },
  {
   "cell_type": "code",
   "execution_count": null,
   "id": "d5d6e694",
   "metadata": {},
   "outputs": [],
   "source": []
  }
 ],
 "metadata": {
  "kernelspec": {
   "display_name": "Python 3 (ipykernel)",
   "language": "python",
   "name": "python3"
  },
  "language_info": {
   "codemirror_mode": {
    "name": "ipython",
    "version": 3
   },
   "file_extension": ".py",
   "mimetype": "text/x-python",
   "name": "python",
   "nbconvert_exporter": "python",
   "pygments_lexer": "ipython3",
   "version": "3.10.6"
  }
 },
 "nbformat": 4,
 "nbformat_minor": 5
}
