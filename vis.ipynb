{
 "cells": [
  {
   "cell_type": "code",
   "execution_count": 1,
   "id": "9f8ce037",
   "metadata": {
    "tags": []
   },
   "outputs": [],
   "source": [
    "import torch\n",
    "import matplotlib.pyplot as plt\n",
    "from src.data import parse_nerf_synthetic, ImagesDataset, NerfData\n",
    "from src.core import RayMarcherAABB, ContractionAABB\n",
    "from pathlib import Path"
   ]
  },
  {
   "cell_type": "code",
   "execution_count": 2,
   "id": "9047bf70",
   "metadata": {
    "tags": []
   },
   "outputs": [],
   "source": [
    "def mip360_contract(coords: torch.Tensor) -> torch.Tensor:\n",
    "    \"\"\"Scene contraction from Mip-NeRF 360 https://arxiv.org/abs/2111.12077\"\"\"\n",
    "    norm = torch.norm(coords, dim=-1, keepdim=True) # type: ignore\n",
    "    return torch.where(norm <= 1., coords, (2. - 1./norm) * coords / norm) / 2.\n",
    "\n",
    "def clipped_exponential_stepping(near: float, far: float, delta_min: float, delta_max: float, device: torch.device):\n",
    "    \"\"\"Clipped exponential stepping function as described in Instant-NGP paper\"\"\"\n",
    "    t = near\n",
    "    acc_ts, acc_steps = [t], []\n",
    "    while t < far:\n",
    "        step = min(delta_max, max(delta_min, t))\n",
    "        t += step\n",
    "        acc_ts.append(t)\n",
    "        acc_steps.append(step)\n",
    "    ts = torch.tensor(acc_ts[:-1], device=device)\n",
    "    steps = torch.tensor(acc_steps, device=device)\n",
    "    return ts, steps\n",
    "\n",
    "def uniform_stepping(near: float, far: float, n_samples: float, device: torch.device):\n",
    "    \"\"\"uniform steps\"\"\"\n",
    "    ts = torch.linspace(near, far, n_samples+1, device=device)\n",
    "    steps = ts[1:] - ts[:-1]\n",
    "    return ts[:-1], steps\n",
    "\n",
    "def unbounded_stepping(near: float, uniform_range: float, n_samples: int, device: torch.device):\n",
    "    \"\"\"uniform steps between near and near+uniform_range, then uniform disparity steps\n",
    "    n_samples//2 samples are used for uniform range, n_samples//2 for disparity range\"\"\"\n",
    "    ts = torch.linspace(0., 1., n_samples , device=device)\n",
    "    f = lambda x: torch.where(x < 0.5, 2 * x, 1 / (2 - 2 * x))\n",
    "    ts = f(ts) * uniform_range + near\n",
    "    steps = ts[1:] - ts[:-1]\n",
    "    return ts[:-1], steps"
   ]
  },
  {
   "cell_type": "code",
   "execution_count": 4,
   "id": "0e2c8ec2",
   "metadata": {
    "tags": []
   },
   "outputs": [],
   "source": [
    "data = parse_nerf_synthetic(Path(\"data/lego\"), \"train\")\n",
    "img_dataset = ImagesDataset(data)\n"
   ]
  },
  {
   "cell_type": "code",
   "execution_count": 7,
   "id": "4682b0ca",
   "metadata": {
    "tags": []
   },
   "outputs": [
    {
     "name": "stdout",
     "output_type": "stream",
     "text": [
      "tensor(0.4967)\n"
     ]
    }
   ],
   "source": [
    "positions = torch.tensor([M[:3, 3].tolist() for M in data.cameras])\n",
    "scene_scale = torch.max(torch.var(positions, 0))\n",
    "aabb = torch.tensor([[-2.,-2.,0.],[2.,2.,2.]])\n",
    "factor = 80\n",
    "camera = 20\n",
    "rays_o = img_dataset[camera]['rays_o'][::factor,::factor].reshape(-1,3)\n",
    "rays_d = img_dataset[camera]['rays_d'][::factor,::factor].reshape(-1,3)\n",
    "marcher = RayMarcherAABB(aabb)\n",
    "contraction = ContractionAABB(aabb)\n",
    "t_values, _ = marcher(rays_o, rays_d)\n",
    "samples = rays_o[:,None,:] + rays_d[:,None,:] * t_values[...,None]\n",
    "_, mask = contraction(samples)\n",
    "samples = samples[mask]\n",
    "# samples = samples[:,:100,:]\n",
    "samples = samples.reshape(-1,3)\n",
    "# samples = mip360_contract(samples)\n",
    "# positions = mip360_contract(positions)\n",
    "print(mask.sum()/mask.numel())"
   ]
  },
  {
   "cell_type": "code",
   "execution_count": 8,
   "id": "a2ebf68a",
   "metadata": {
    "tags": []
   },
   "outputs": [],
   "source": [
    "%matplotlib tk\n",
    "fig = plt.figure()\n",
    "ax = fig.add_subplot(projection='3d')\n",
    "\n",
    "ax.scatter(positions[:,0], positions[:,1], positions[:,2], c='b')\n",
    "ax.scatter(samples[:,0], samples[:,1], samples[:,2], c='r')\n",
    "plt.show()"
   ]
  },
  {
   "cell_type": "code",
   "execution_count": 13,
   "id": "d5d6e694",
   "metadata": {
    "tags": []
   },
   "outputs": [
    {
     "data": {
      "image/png": "[encoded data removed]",
      "text/plain": [
       "<Figure size 640x480 with 1 Axes>"
      ]
     },
     "metadata": {},
     "output_type": "display_data"
    }
   ],
   "source": [
    "f_inv = lambda x: torch.where(x < 0.5, 2 * x, 1 / (2 - 2 * x))\n",
    "t = torch.linspace(0.,0.99, 1000)\n",
    "y = f_inv(t)\n",
    "plt.plot(y)\n",
    "plt.show()"
   ]
  },
  {
   "cell_type": "code",
   "execution_count": null,
   "id": "4b7f65c5-79fd-4745-b007-7febf0becaf9",
   "metadata": {
    "tags": []
   },
   "outputs": [],
   "source": [
    "x = torch.randn(40,45,3)\n",
    "t = torch.randn(40,45)\n",
    "x * t[...,None]"
   ]
  },
  {
   "cell_type": "code",
   "execution_count": null,
   "id": "2963edd7-315b-4d76-ab2f-58bc06d5d079",
   "metadata": {},
   "outputs": [],
   "source": []
  }
 ],
 "metadata": {
  "kernelspec": {
   "display_name": "Python 3 (ipykernel)",
   "language": "python",
   "name": "python3"
  },
  "language_info": {
   "codemirror_mode": {
    "name": "ipython",
    "version": 3
   },
   "file_extension": ".py",
   "mimetype": "text/x-python",
   "name": "python",
   "nbconvert_exporter": "python",
   "pygments_lexer": "ipython3",
   "version": "3.10.6"
  }
 },
 "nbformat": 4,
 "nbformat_minor": 5
}
